{
 "cells": [
  {
   "cell_type": "code",
   "execution_count": null,
   "metadata": {
    "id": "CIzTNff_1vTM"
   },
   "outputs": [],
   "source": [
    "#!pip install ultralytics\n",
    "#!pip install opencv-python"
   ]
  },
  {
   "cell_type": "code",
   "execution_count": 1,
   "metadata": {
    "id": "fSSz2bhk17zh"
   },
   "outputs": [
    {
     "name": "stderr",
     "output_type": "stream",
     "text": [
      "Matplotlib is building the font cache; this may take a moment.\n"
     ]
    }
   ],
   "source": [
    "import math\n",
    "from ultralytics import YOLO\n",
    "import cv2\n",
    "#from google.colab.patches import cv2_imshow\n",
    "import numpy as np"
   ]
  },
  {
   "cell_type": "code",
   "execution_count": 7,
   "metadata": {
    "colab": {
     "base_uri": "https://localhost:8080/",
     "height": 1000
    },
    "id": "EY21sGyb1-Kj",
    "outputId": "0b43bec4-11d7-43fc-d069-89afb7726384"
   },
   "outputs": [
    {
     "name": "stdout",
     "output_type": "stream",
     "text": [
      "\n",
      "0: 640x512 1 person, 6 birds, 2497.2ms\n",
      "Speed: 8.0ms preprocess, 2497.2ms inference, 6.3ms postprocess per image at shape (1, 3, 640, 512)\n",
      "[[1, 136, 601, 1214, 'person', 0.94, 0], [544, 799, 745, 1004, 'bird', 0.32, 410.7615], [600, 915, 770, 1092, 'bird', 0.46, 505.0149], [705, 676, 909, 870, 'bird', 0.76, 515.4028], [700, 989, 928, 1222, 'bird', 0.76, 669.3796], [940, 735, 1039, 945, 'bird', 0.84, 707.509], [936, 879, 1078, 1203, 'bird', 0.85, 795.2308]]\n"
     ]
    }
   ],
   "source": [
    "model = YOLO(\"yolov8l.pt\")\n",
    "\n",
    "def yolo8_bounding_boxes_with_distance(model, image_path):\n",
    "    frame = cv2.imread(image_path)\n",
    "    frame = cv2.cvtColor(frame, cv2.COLOR_BGR2RGB)\n",
    "    bboxes = model.predict(frame)\n",
    "    result = bboxes[0]\n",
    "\n",
    "    img_height, img_width, _ = frame.shape\n",
    "\n",
    "    bounding_boxes = []\n",
    "    box_sizes = []\n",
    "    i = 0\n",
    "    for box in result.boxes:\n",
    "        class_id = result.names[box.cls[0].item()]\n",
    "        cords = box.xyxy[0].tolist()\n",
    "        x1, y1, x2, y2  = [round(x) for x in cords]\n",
    "        box_width = round(x2 - x1, 4)\n",
    "        box_height = round(y2 - y1, 4)\n",
    "        total_box = round(box_height * box_width, 4)\n",
    "        cX, cY = x1 + int((x2-x1)/2), y1 + int((y2-y1)/2) # center X and center Y\n",
    "        conf = round(box.conf[0].item(), 2)\n",
    "\n",
    "        #print(\"Object type:\", class_id)\n",
    "        #print(\"Coordinates:\",  x1, y1, x2, y2)\n",
    "        #print(\"Box width, height and total box:\",  box_width, box_height, total_box )\n",
    "        #print(\"Probability:\", conf)\n",
    "        #print(\"---\")\n",
    "\n",
    "        cv2.rectangle(frame, (x1, y1),(x2, y2), 2)\n",
    "        bounding_boxes.append([\n",
    "          x1, y1, x2, y2, class_id, conf, total_box, cX, cY\n",
    "        ])\n",
    "        box_sizes.append(total_box)\n",
    "        i=i+1\n",
    "\n",
    "    #cv2_imshow(frame)\n",
    "    cv2.imshow('Image', frame)\n",
    "\n",
    "\n",
    "    update_bbox = {}\n",
    "    distance = []\n",
    "    for bbox in bounding_boxes:\n",
    "\n",
    "        if bbox[6] == max(box_sizes):\n",
    "            source_box = bbox\n",
    "            for i in range(len(bounding_boxes)):\n",
    "                if source_box[7] != bounding_boxes[i][7] and source_box[8] != bounding_boxes[i][8] :\n",
    "\n",
    "                    dist = math.sqrt((source_box[7] - bounding_boxes[i][7])** 2 + (source_box[8] - bounding_boxes[i][8])** 2)\n",
    "                    update_bbox[i] = {index: element for index, element in enumerate(bounding_boxes[i])}\n",
    "                    update_bbox[i][len(update_bbox[i])] = round(dist, 4)\n",
    "                    distance.append(round(dist, 4))\n",
    "                else:\n",
    "                    update_bbox[i] = {index: element for index, element in enumerate(bounding_boxes[i])}\n",
    "                    update_bbox[i][len(update_bbox[i])] = 0\n",
    "                    distance.append(0)\n",
    "\n",
    "\n",
    "    #print(update_bbox)\n",
    "    #print(bboxes)\n",
    "\n",
    "    #print(\"Sorted distance values : \", sorted(distance))\n",
    "\n",
    "    final_bbox = []\n",
    "    for i in range(len(sorted(distance))):\n",
    "        for key, val in update_bbox.items():\n",
    "            if sorted(distance)[i] == val[9] :\n",
    "                del val[8]\n",
    "                del val[7]\n",
    "                del val[6]\n",
    "                final_bbox.append(list(val.values()))\n",
    "                #print(list(val.values()))\n",
    "\n",
    "    print(final_bbox)\n",
    "\n",
    "    return final_bbox\n",
    "\n",
    "final_bbox = yolo8_bounding_boxes_with_distance(model, \"babyCatchingFish.jpg\")\n"
   ]
  },
  {
   "cell_type": "code",
   "execution_count": null,
   "metadata": {},
   "outputs": [],
   "source": []
  }
 ],
 "metadata": {
  "colab": {
   "provenance": []
  },
  "kernelspec": {
   "display_name": "Python 3 (ipykernel)",
   "language": "python",
   "name": "python3"
  },
  "language_info": {
   "codemirror_mode": {
    "name": "ipython",
    "version": 3
   },
   "file_extension": ".py",
   "mimetype": "text/x-python",
   "name": "python",
   "nbconvert_exporter": "python",
   "pygments_lexer": "ipython3",
   "version": "3.11.5"
  }
 },
 "nbformat": 4,
 "nbformat_minor": 4
}
