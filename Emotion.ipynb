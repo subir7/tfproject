{
  "nbformat": 4,
  "nbformat_minor": 0,
  "metadata": {
    "colab": {
      "provenance": [],
      "authorship_tag": "ABX9TyPTjAoF2QLC8ldmQ5aiHX5h"
    },
    "kernelspec": {
      "name": "python3",
      "display_name": "Python 3"
    },
    "language_info": {
      "name": "python"
    }
  },
  "cells": [
    {
      "cell_type": "code",
      "execution_count": null,
      "metadata": {
        "id": "qz50tMm_9mFt"
      },
      "outputs": [],
      "source": [
        "#!pip install -qq deepface\n",
        "!pip install -qq ultralytics\n",
        "!pip install -qq fer"
      ]
    },
    {
      "cell_type": "code",
      "source": [
        "import os\n",
        "from fer import FER\n",
        "from ultralytics import YOLO\n",
        "import cv2\n",
        "import shutil\n",
        "\n",
        "model = YOLO(\"yolov8l.pt\")\n",
        "frame = cv2.imread(\"/content/1014567_4937877960236_858731246_o.jpg\")\n",
        "#frame = cv2.cvtColor(frame, cv2.COLOR_BGR2RGB)\n",
        "result = model.predict(frame, conf=0.50, project=\"caption\", name=\"img\", save_crop=True, classes=0)\n",
        "\n",
        "path = \"/content/caption/img/crops/person/\"\n",
        "dir_list = os.listdir(path)\n",
        "#print(\"Files and directories in '\", path, \"' :\")\n",
        "# prints all files\n",
        "#print(dir_list)\n",
        "emotion = []\n",
        "for imgname in dir_list:\n",
        "\n",
        "    emotion_detector = FER(mtcnn=True)\n",
        "    test_img = cv2.imread(path+imgname)\n",
        "    analysis = emotion_detector.detect_emotions(test_img)\n",
        "    print(analysis)\n",
        "    if len(emotion) == 0:\n",
        "        emotion.extend((analysis[0]['emotions']['angry'], analysis[0]['emotions']['disgust'], analysis[0]['emotions']['fear'],\n",
        "                       analysis[0]['emotions']['happy'], analysis[0]['emotions']['sad'], analysis[0]['emotions']['surprise'],\n",
        "                       analysis[0]['emotions']['neutral']))\n",
        "    else:\n",
        "        emotion[0] = emotion[0] + analysis[0]['emotions']['angry']\n",
        "        emotion[1] = emotion[1] + analysis[0]['emotions']['disgust']\n",
        "        emotion[2] = emotion[2] + analysis[0]['emotions']['fear']\n",
        "        emotion[3] = emotion[3] + analysis[0]['emotions']['happy']\n",
        "        emotion[4] = emotion[4] + analysis[0]['emotions']['sad']\n",
        "        emotion[5] = emotion[5] + analysis[0]['emotions']['surprise']\n",
        "        emotion[6] = emotion[6] + analysis[0]['emotions']['neutral']\n",
        "\n",
        "    #print(analysis[0]['emotions'])\n",
        "\n",
        "print(\"EMOTIONS\", emotion)\n",
        "\n",
        "newList = [i/len(dir_list) for i in emotion]\n",
        "print(newList)\n",
        "index = newList.index(max(newList))\n",
        "print(index, max(newList))\n",
        "\n",
        "shutil.rmtree(\"/content/caption\")"
      ],
      "metadata": {
        "id": "gDzVKDfT9_Vx"
      },
      "execution_count": null,
      "outputs": []
    },
    {
      "cell_type": "code",
      "source": [
        "#!rm -rf /content/caption"
      ],
      "metadata": {
        "id": "sbQ1JTMnHisr"
      },
      "execution_count": null,
      "outputs": []
    }
  ]
}